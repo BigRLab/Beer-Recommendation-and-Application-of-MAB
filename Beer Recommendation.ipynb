{
 "cells": [
  {
   "cell_type": "code",
   "execution_count": 6,
   "metadata": {
    "collapsed": false
   },
   "outputs": [],
   "source": [
    "import numpy as np\n",
    "import pandas as pd\n",
    "from Recommendation import collaborative_filtering"
   ]
  },
  {
   "cell_type": "code",
   "execution_count": 16,
   "metadata": {
    "collapsed": false
   },
   "outputs": [],
   "source": [
    "import os\n",
    "filedir = os.path.dirname(os.path.realpath('__file__'))"
   ]
  },
  {
   "cell_type": "code",
   "execution_count": 17,
   "metadata": {
    "collapsed": false
   },
   "outputs": [
    {
     "data": {
      "text/html": [
       "<div>\n",
       "<table border=\"1\" class=\"dataframe\">\n",
       "  <thead>\n",
       "    <tr style=\"text-align: right;\">\n",
       "      <th></th>\n",
       "      <th>brewery_id</th>\n",
       "      <th>brewery_name</th>\n",
       "      <th>review_time</th>\n",
       "      <th>review_overall</th>\n",
       "      <th>review_aroma</th>\n",
       "      <th>review_appearance</th>\n",
       "      <th>review_profilename</th>\n",
       "      <th>beer_style</th>\n",
       "      <th>review_palate</th>\n",
       "      <th>review_taste</th>\n",
       "      <th>beer_name</th>\n",
       "      <th>beer_abv</th>\n",
       "      <th>beer_beerid</th>\n",
       "    </tr>\n",
       "  </thead>\n",
       "  <tbody>\n",
       "    <tr>\n",
       "      <th>0</th>\n",
       "      <td>10325</td>\n",
       "      <td>Vecchio Birraio</td>\n",
       "      <td>1234817823</td>\n",
       "      <td>1.5</td>\n",
       "      <td>2.0</td>\n",
       "      <td>2.5</td>\n",
       "      <td>stcules</td>\n",
       "      <td>Hefeweizen</td>\n",
       "      <td>1.5</td>\n",
       "      <td>1.5</td>\n",
       "      <td>Sausa Weizen</td>\n",
       "      <td>5.0</td>\n",
       "      <td>47986</td>\n",
       "    </tr>\n",
       "    <tr>\n",
       "      <th>1</th>\n",
       "      <td>10325</td>\n",
       "      <td>Vecchio Birraio</td>\n",
       "      <td>1235915097</td>\n",
       "      <td>3.0</td>\n",
       "      <td>2.5</td>\n",
       "      <td>3.0</td>\n",
       "      <td>stcules</td>\n",
       "      <td>English Strong Ale</td>\n",
       "      <td>3.0</td>\n",
       "      <td>3.0</td>\n",
       "      <td>Red Moon</td>\n",
       "      <td>6.2</td>\n",
       "      <td>48213</td>\n",
       "    </tr>\n",
       "    <tr>\n",
       "      <th>2</th>\n",
       "      <td>10325</td>\n",
       "      <td>Vecchio Birraio</td>\n",
       "      <td>1235916604</td>\n",
       "      <td>3.0</td>\n",
       "      <td>2.5</td>\n",
       "      <td>3.0</td>\n",
       "      <td>stcules</td>\n",
       "      <td>Foreign / Export Stout</td>\n",
       "      <td>3.0</td>\n",
       "      <td>3.0</td>\n",
       "      <td>Black Horse Black Beer</td>\n",
       "      <td>6.5</td>\n",
       "      <td>48215</td>\n",
       "    </tr>\n",
       "    <tr>\n",
       "      <th>3</th>\n",
       "      <td>10325</td>\n",
       "      <td>Vecchio Birraio</td>\n",
       "      <td>1234725145</td>\n",
       "      <td>3.0</td>\n",
       "      <td>3.0</td>\n",
       "      <td>3.5</td>\n",
       "      <td>stcules</td>\n",
       "      <td>German Pilsener</td>\n",
       "      <td>2.5</td>\n",
       "      <td>3.0</td>\n",
       "      <td>Sausa Pils</td>\n",
       "      <td>5.0</td>\n",
       "      <td>47969</td>\n",
       "    </tr>\n",
       "    <tr>\n",
       "      <th>4</th>\n",
       "      <td>1075</td>\n",
       "      <td>Caldera Brewing Company</td>\n",
       "      <td>1293735206</td>\n",
       "      <td>4.0</td>\n",
       "      <td>4.5</td>\n",
       "      <td>4.0</td>\n",
       "      <td>johnmichaelsen</td>\n",
       "      <td>American Double / Imperial IPA</td>\n",
       "      <td>4.0</td>\n",
       "      <td>4.5</td>\n",
       "      <td>Cauldron DIPA</td>\n",
       "      <td>7.7</td>\n",
       "      <td>64883</td>\n",
       "    </tr>\n",
       "  </tbody>\n",
       "</table>\n",
       "</div>"
      ],
      "text/plain": [
       "   brewery_id             brewery_name  review_time  review_overall  \\\n",
       "0       10325          Vecchio Birraio   1234817823             1.5   \n",
       "1       10325          Vecchio Birraio   1235915097             3.0   \n",
       "2       10325          Vecchio Birraio   1235916604             3.0   \n",
       "3       10325          Vecchio Birraio   1234725145             3.0   \n",
       "4        1075  Caldera Brewing Company   1293735206             4.0   \n",
       "\n",
       "   review_aroma  review_appearance review_profilename  \\\n",
       "0           2.0                2.5            stcules   \n",
       "1           2.5                3.0            stcules   \n",
       "2           2.5                3.0            stcules   \n",
       "3           3.0                3.5            stcules   \n",
       "4           4.5                4.0     johnmichaelsen   \n",
       "\n",
       "                       beer_style  review_palate  review_taste  \\\n",
       "0                      Hefeweizen            1.5           1.5   \n",
       "1              English Strong Ale            3.0           3.0   \n",
       "2          Foreign / Export Stout            3.0           3.0   \n",
       "3                 German Pilsener            2.5           3.0   \n",
       "4  American Double / Imperial IPA            4.0           4.5   \n",
       "\n",
       "                beer_name  beer_abv  beer_beerid  \n",
       "0            Sausa Weizen       5.0        47986  \n",
       "1                Red Moon       6.2        48213  \n",
       "2  Black Horse Black Beer       6.5        48215  \n",
       "3              Sausa Pils       5.0        47969  \n",
       "4           Cauldron DIPA       7.7        64883  "
      ]
     },
     "execution_count": 17,
     "metadata": {},
     "output_type": "execute_result"
    }
   ],
   "source": [
    "beer_data = pd.read_csv(filedir + r\"\\Data\\beer_reviews\\beer_reviews.csv\")\n",
    "beer_data.head()"
   ]
  },
  {
   "cell_type": "code",
   "execution_count": 18,
   "metadata": {
    "collapsed": false,
    "scrolled": true
   },
   "outputs": [
    {
     "data": {
      "text/plain": [
       "brewery_id                0\n",
       "brewery_name             15\n",
       "review_time               0\n",
       "review_overall            0\n",
       "review_aroma              0\n",
       "review_appearance         0\n",
       "review_profilename      348\n",
       "beer_style                0\n",
       "review_palate             0\n",
       "review_taste              0\n",
       "beer_name                 0\n",
       "beer_abv              67785\n",
       "beer_beerid               0\n",
       "dtype: int64"
      ]
     },
     "execution_count": 18,
     "metadata": {},
     "output_type": "execute_result"
    }
   ],
   "source": [
    "beer_data.isnull().sum()"
   ]
  },
  {
   "cell_type": "code",
   "execution_count": 19,
   "metadata": {
    "collapsed": false
   },
   "outputs": [
    {
     "name": "stdout",
     "output_type": "stream",
     "text": [
      "1586614\n"
     ]
    }
   ],
   "source": [
    "print beer_data.shape[0]"
   ]
  },
  {
   "cell_type": "code",
   "execution_count": 20,
   "metadata": {
    "collapsed": false
   },
   "outputs": [
    {
     "data": {
      "text/plain": [
       "252"
      ]
     },
     "execution_count": 20,
     "metadata": {},
     "output_type": "execute_result"
    }
   ],
   "source": [
    "reviewers = beer_data.groupby(beer_data.review_profilename)[\"review_overall\"].count()\n",
    "reviewers = reviewers[reviewers > 1000].index\n",
    "len(reviewers)"
   ]
  },
  {
   "cell_type": "code",
   "execution_count": 21,
   "metadata": {
    "collapsed": false
   },
   "outputs": [
    {
     "data": {
      "text/plain": [
       "(413769, 13)"
      ]
     },
     "execution_count": 21,
     "metadata": {},
     "output_type": "execute_result"
    }
   ],
   "source": [
    "demo_data = beer_data[beer_data[\"review_profilename\"].isin(reviewers)]\n",
    "demo_data.shape"
   ]
  },
  {
   "cell_type": "code",
   "execution_count": 22,
   "metadata": {
    "collapsed": false
   },
   "outputs": [
    {
     "data": {
      "text/plain": [
       "70"
      ]
     },
     "execution_count": 22,
     "metadata": {},
     "output_type": "execute_result"
    }
   ],
   "source": [
    "req_beers = demo_data.groupby(demo_data.beer_name)[\"review_overall\"].count()\n",
    "req_beers = req_beers[req_beers > 200].index\n",
    "len(req_beers)"
   ]
  },
  {
   "cell_type": "code",
   "execution_count": 23,
   "metadata": {
    "collapsed": false
   },
   "outputs": [
    {
     "data": {
      "text/html": [
       "<div>\n",
       "<table border=\"1\" class=\"dataframe\">\n",
       "  <thead>\n",
       "    <tr style=\"text-align: right;\">\n",
       "      <th></th>\n",
       "      <th>brewery_id</th>\n",
       "      <th>brewery_name</th>\n",
       "      <th>review_time</th>\n",
       "      <th>review_overall</th>\n",
       "      <th>review_aroma</th>\n",
       "      <th>review_appearance</th>\n",
       "      <th>review_profilename</th>\n",
       "      <th>beer_style</th>\n",
       "      <th>review_palate</th>\n",
       "      <th>review_taste</th>\n",
       "      <th>beer_name</th>\n",
       "      <th>beer_abv</th>\n",
       "      <th>beer_beerid</th>\n",
       "    </tr>\n",
       "  </thead>\n",
       "  <tbody>\n",
       "    <tr>\n",
       "      <th>1559</th>\n",
       "      <td>11715</td>\n",
       "      <td>Destiny Brewing Company</td>\n",
       "      <td>1137124057</td>\n",
       "      <td>4.0</td>\n",
       "      <td>3.5</td>\n",
       "      <td>4.0</td>\n",
       "      <td>blitheringidiot</td>\n",
       "      <td>American Pale Ale (APA)</td>\n",
       "      <td>3.5</td>\n",
       "      <td>3.5</td>\n",
       "      <td>Pale Ale</td>\n",
       "      <td>4.5</td>\n",
       "      <td>26420</td>\n",
       "    </tr>\n",
       "    <tr>\n",
       "      <th>1560</th>\n",
       "      <td>11715</td>\n",
       "      <td>Destiny Brewing Company</td>\n",
       "      <td>1129504403</td>\n",
       "      <td>4.0</td>\n",
       "      <td>2.5</td>\n",
       "      <td>4.0</td>\n",
       "      <td>NeroFiddled</td>\n",
       "      <td>American Pale Ale (APA)</td>\n",
       "      <td>4.0</td>\n",
       "      <td>3.5</td>\n",
       "      <td>Pale Ale</td>\n",
       "      <td>4.5</td>\n",
       "      <td>26420</td>\n",
       "    </tr>\n",
       "    <tr>\n",
       "      <th>1563</th>\n",
       "      <td>11715</td>\n",
       "      <td>Destiny Brewing Company</td>\n",
       "      <td>1137125989</td>\n",
       "      <td>3.5</td>\n",
       "      <td>3.0</td>\n",
       "      <td>4.0</td>\n",
       "      <td>blitheringidiot</td>\n",
       "      <td>American IPA</td>\n",
       "      <td>4.0</td>\n",
       "      <td>4.0</td>\n",
       "      <td>IPA</td>\n",
       "      <td>NaN</td>\n",
       "      <td>26132</td>\n",
       "    </tr>\n",
       "    <tr>\n",
       "      <th>1564</th>\n",
       "      <td>11715</td>\n",
       "      <td>Destiny Brewing Company</td>\n",
       "      <td>1130936611</td>\n",
       "      <td>3.0</td>\n",
       "      <td>3.0</td>\n",
       "      <td>3.0</td>\n",
       "      <td>Gavage</td>\n",
       "      <td>American IPA</td>\n",
       "      <td>4.0</td>\n",
       "      <td>3.5</td>\n",
       "      <td>IPA</td>\n",
       "      <td>NaN</td>\n",
       "      <td>26132</td>\n",
       "    </tr>\n",
       "    <tr>\n",
       "      <th>1565</th>\n",
       "      <td>11715</td>\n",
       "      <td>Destiny Brewing Company</td>\n",
       "      <td>1129505059</td>\n",
       "      <td>4.5</td>\n",
       "      <td>3.5</td>\n",
       "      <td>3.5</td>\n",
       "      <td>NeroFiddled</td>\n",
       "      <td>American IPA</td>\n",
       "      <td>4.0</td>\n",
       "      <td>4.0</td>\n",
       "      <td>IPA</td>\n",
       "      <td>NaN</td>\n",
       "      <td>26132</td>\n",
       "    </tr>\n",
       "  </tbody>\n",
       "</table>\n",
       "</div>"
      ],
      "text/plain": [
       "      brewery_id             brewery_name  review_time  review_overall  \\\n",
       "1559       11715  Destiny Brewing Company   1137124057             4.0   \n",
       "1560       11715  Destiny Brewing Company   1129504403             4.0   \n",
       "1563       11715  Destiny Brewing Company   1137125989             3.5   \n",
       "1564       11715  Destiny Brewing Company   1130936611             3.0   \n",
       "1565       11715  Destiny Brewing Company   1129505059             4.5   \n",
       "\n",
       "      review_aroma  review_appearance review_profilename  \\\n",
       "1559           3.5                4.0    blitheringidiot   \n",
       "1560           2.5                4.0        NeroFiddled   \n",
       "1563           3.0                4.0    blitheringidiot   \n",
       "1564           3.0                3.0             Gavage   \n",
       "1565           3.5                3.5        NeroFiddled   \n",
       "\n",
       "                   beer_style  review_palate  review_taste beer_name  \\\n",
       "1559  American Pale Ale (APA)            3.5           3.5  Pale Ale   \n",
       "1560  American Pale Ale (APA)            4.0           3.5  Pale Ale   \n",
       "1563             American IPA            4.0           4.0       IPA   \n",
       "1564             American IPA            4.0           3.5       IPA   \n",
       "1565             American IPA            4.0           4.0       IPA   \n",
       "\n",
       "      beer_abv  beer_beerid  \n",
       "1559       4.5        26420  \n",
       "1560       4.5        26420  \n",
       "1563       NaN        26132  \n",
       "1564       NaN        26132  \n",
       "1565       NaN        26132  "
      ]
     },
     "execution_count": 23,
     "metadata": {},
     "output_type": "execute_result"
    }
   ],
   "source": [
    "demo_data = demo_data[demo_data.beer_name.isin(req_beers)]\n",
    "demo_data.head()"
   ]
  },
  {
   "cell_type": "code",
   "execution_count": 24,
   "metadata": {
    "collapsed": false
   },
   "outputs": [
    {
     "data": {
      "text/html": [
       "<div>\n",
       "<table border=\"1\" class=\"dataframe\">\n",
       "  <thead>\n",
       "    <tr style=\"text-align: right;\">\n",
       "      <th></th>\n",
       "      <th>review_profilename</th>\n",
       "      <th>beer_name</th>\n",
       "      <th>review_overall</th>\n",
       "    </tr>\n",
       "  </thead>\n",
       "  <tbody>\n",
       "    <tr>\n",
       "      <th>1559</th>\n",
       "      <td>blitheringidiot</td>\n",
       "      <td>Pale Ale</td>\n",
       "      <td>4.0</td>\n",
       "    </tr>\n",
       "    <tr>\n",
       "      <th>1560</th>\n",
       "      <td>NeroFiddled</td>\n",
       "      <td>Pale Ale</td>\n",
       "      <td>4.0</td>\n",
       "    </tr>\n",
       "    <tr>\n",
       "      <th>1563</th>\n",
       "      <td>blitheringidiot</td>\n",
       "      <td>IPA</td>\n",
       "      <td>3.5</td>\n",
       "    </tr>\n",
       "    <tr>\n",
       "      <th>1564</th>\n",
       "      <td>Gavage</td>\n",
       "      <td>IPA</td>\n",
       "      <td>3.0</td>\n",
       "    </tr>\n",
       "    <tr>\n",
       "      <th>1565</th>\n",
       "      <td>NeroFiddled</td>\n",
       "      <td>IPA</td>\n",
       "      <td>4.5</td>\n",
       "    </tr>\n",
       "  </tbody>\n",
       "</table>\n",
       "</div>"
      ],
      "text/plain": [
       "     review_profilename beer_name  review_overall\n",
       "1559    blitheringidiot  Pale Ale             4.0\n",
       "1560        NeroFiddled  Pale Ale             4.0\n",
       "1563    blitheringidiot       IPA             3.5\n",
       "1564             Gavage       IPA             3.0\n",
       "1565        NeroFiddled       IPA             4.5"
      ]
     },
     "execution_count": 24,
     "metadata": {},
     "output_type": "execute_result"
    }
   ],
   "source": [
    "data = demo_data[[\"review_profilename\",\"beer_name\",\"review_overall\"]]\n",
    "data.head()"
   ]
  },
  {
   "cell_type": "code",
   "execution_count": 25,
   "metadata": {
    "collapsed": false
   },
   "outputs": [],
   "source": [
    "profiles, beers = np.unique(data.review_profilename), np.unique(data.beer_name)\n",
    "hash_profiles = {profiles[i] : i for i in range(len(profiles))}\n",
    "hash_beers = {beers[i] : i for i in range(len(beers))}\n",
    "hash_profiles_inv = {v:k for k,v in hash_profiles.items()}\n",
    "hash_beers_inv = {v:k for k,v in hash_beers.items()}\n",
    "# Constructing Utility Matrix\n",
    "utility_matrix = np.zeros((len(profiles), len(beers)))"
   ]
  },
  {
   "cell_type": "code",
   "execution_count": 12,
   "metadata": {
    "collapsed": false
   },
   "outputs": [],
   "source": [
    "for i in range(data.shape[0]):\n",
    "    utility_matrix[hash_profiles[data.iloc[i,0]], hash_beers[data.iloc[i,1]]] = data.iloc[i,2]"
   ]
  },
  {
   "cell_type": "code",
   "execution_count": 13,
   "metadata": {
    "collapsed": false
   },
   "outputs": [
    {
     "data": {
      "text/plain": [
       "array([[ 4. ,  4. ,  4. , ...,  4. ,  4.5,  4.5],\n",
       "       [ 4. ,  3.5,  5. , ...,  4.5,  4. ,  4. ],\n",
       "       [ 0. ,  4. ,  4.5, ...,  4.5,  4.5,  2.5],\n",
       "       ..., \n",
       "       [ 4.5,  4.5,  0. , ...,  5. ,  4.5,  4. ],\n",
       "       [ 3.5,  5. ,  3.5, ...,  5. ,  5. ,  4. ],\n",
       "       [ 4.5,  5. ,  5. , ...,  4. ,  4.5,  4. ]])"
      ]
     },
     "execution_count": 13,
     "metadata": {},
     "output_type": "execute_result"
    }
   ],
   "source": [
    "utility_matrix"
   ]
  },
  {
   "cell_type": "code",
   "execution_count": 14,
   "metadata": {
    "collapsed": true
   },
   "outputs": [],
   "source": [
    "import collaborative_filtering"
   ]
  },
  {
   "cell_type": "code",
   "execution_count": 15,
   "metadata": {
    "collapsed": false
   },
   "outputs": [
    {
     "data": {
      "text/plain": [
       "array([[ 188.07111282,  193.07049506,  176.63535134, ...,  188.88930557,\n",
       "         187.63589341,  181.42991947],\n",
       "       [ 158.08530597,  162.55565108,  149.33204249, ...,  159.04124466,\n",
       "         158.07778001,  152.4447081 ],\n",
       "       [ 172.47375733,  178.16041259,  164.96691182, ...,  175.59812799,\n",
       "         173.18875169,  165.76589739],\n",
       "       ..., \n",
       "       [ 164.76483802,  168.91268119,  153.46045938, ...,  165.1336547 ,\n",
       "         164.53757226,  159.07083299],\n",
       "       [ 175.65952119,  181.36101007,  166.46438455, ...,  177.74712273,\n",
       "         176.47037099,  169.52517439],\n",
       "       [ 253.28940577,  260.54287353,  239.84256603, ...,  255.86766501,\n",
       "         252.89847848,  243.5028803 ]])"
      ]
     },
     "execution_count": 15,
     "metadata": {},
     "output_type": "execute_result"
    }
   ],
   "source": [
    "rec_col_ii_cos = collaborative_filtering.collaborative_filtering(utility_matrix)\n",
    "rec_col_ii_cos.similarity_mat()\n",
    "rec_col_ii_cos.final_recommendation_score_matrix()"
   ]
  },
  {
   "cell_type": "code",
   "execution_count": 16,
   "metadata": {
    "collapsed": false
   },
   "outputs": [
    {
     "data": {
      "text/html": [
       "<div>\n",
       "<table border=\"1\" class=\"dataframe\">\n",
       "  <thead>\n",
       "    <tr style=\"text-align: right;\">\n",
       "      <th></th>\n",
       "      <th>Reviewer Name</th>\n",
       "      <th>Beer Name</th>\n",
       "      <th>Recommended_score</th>\n",
       "      <th>Rank</th>\n",
       "      <th>Flag</th>\n",
       "    </tr>\n",
       "  </thead>\n",
       "  <tbody>\n",
       "    <tr>\n",
       "      <th>0</th>\n",
       "      <td>ADR</td>\n",
       "      <td>90 Minute IPA</td>\n",
       "      <td>193.07</td>\n",
       "      <td>1</td>\n",
       "      <td>1</td>\n",
       "    </tr>\n",
       "    <tr>\n",
       "      <th>1</th>\n",
       "      <td>ADR</td>\n",
       "      <td>Stone IPA (India Pale Ale)</td>\n",
       "      <td>192.319</td>\n",
       "      <td>2</td>\n",
       "      <td>0</td>\n",
       "    </tr>\n",
       "    <tr>\n",
       "      <th>2</th>\n",
       "      <td>ADR</td>\n",
       "      <td>Storm King Stout</td>\n",
       "      <td>191.876</td>\n",
       "      <td>3</td>\n",
       "      <td>1</td>\n",
       "    </tr>\n",
       "    <tr>\n",
       "      <th>3</th>\n",
       "      <td>ADR</td>\n",
       "      <td>Chocolate Stout</td>\n",
       "      <td>191.487</td>\n",
       "      <td>4</td>\n",
       "      <td>1</td>\n",
       "    </tr>\n",
       "    <tr>\n",
       "      <th>4</th>\n",
       "      <td>ADR</td>\n",
       "      <td>Old Rasputin Russian Imperial Stout</td>\n",
       "      <td>190.794</td>\n",
       "      <td>5</td>\n",
       "      <td>1</td>\n",
       "    </tr>\n",
       "  </tbody>\n",
       "</table>\n",
       "</div>"
      ],
      "text/plain": [
       "  Reviewer Name                            Beer Name Recommended_score Rank  \\\n",
       "0           ADR                        90 Minute IPA            193.07    1   \n",
       "1           ADR           Stone IPA (India Pale Ale)           192.319    2   \n",
       "2           ADR                     Storm King Stout           191.876    3   \n",
       "3           ADR                      Chocolate Stout           191.487    4   \n",
       "4           ADR  Old Rasputin Russian Imperial Stout           190.794    5   \n",
       "\n",
       "  Flag  \n",
       "0    1  \n",
       "1    0  \n",
       "2    1  \n",
       "3    1  \n",
       "4    1  "
      ]
     },
     "execution_count": 16,
     "metadata": {},
     "output_type": "execute_result"
    }
   ],
   "source": [
    "rec_col_ii_cos.output_recommendations(\"Reviewer Name\", \"Beer Name\", hash_profiles_inv, hash_beers_inv).head()"
   ]
  },
  {
   "cell_type": "code",
   "execution_count": 17,
   "metadata": {
    "collapsed": false
   },
   "outputs": [
    {
     "data": {
      "text/plain": [
       "array([[ 135.08328168,  138.52037461,  125.78278454, ...,  139.95961871,\n",
       "         138.75277425,  121.22910523],\n",
       "       [ 115.10063407,  118.23991407,  108.07338076, ...,  119.83358815,\n",
       "         118.48004727,  102.99161938],\n",
       "       [ 123.23781384,  128.35826598,  118.84521278, ...,  131.75147282,\n",
       "         129.25744928,  109.67761896],\n",
       "       ..., \n",
       "       [ 118.43019569,  120.79164888,  107.96716656, ...,  122.18219241,\n",
       "         121.81364169,  106.14453681],\n",
       "       [ 127.58557167,  132.17896798,  120.36112267, ...,  134.59426743,\n",
       "         133.02831909,  114.06629185],\n",
       "       [ 181.03719705,  185.98155859,  170.68997488, ...,  189.45316778,\n",
       "         186.42647531,  160.9502921 ]])"
      ]
     },
     "execution_count": 17,
     "metadata": {},
     "output_type": "execute_result"
    }
   ],
   "source": [
    "rec_col_ii_jac = collaborative_filtering.collaborative_filtering(utility_matrix, product = \"jac\")\n",
    "rec_col_ii_jac.similarity_mat()\n",
    "rec_col_ii_jac.final_recommendation_score_matrix()"
   ]
  },
  {
   "cell_type": "code",
   "execution_count": 18,
   "metadata": {
    "collapsed": false
   },
   "outputs": [
    {
     "data": {
      "text/plain": [
       "array([[ 1.        ,  0.72131148,  0.62235915, ...,  0.69041561,\n",
       "         0.67932489,  0.62098873],\n",
       "       [ 0.72131148,  1.        ,  0.62648557, ...,  0.73613445,\n",
       "         0.70214521,  0.59967051],\n",
       "       [ 0.62235915,  0.62648557,  1.        , ...,  0.74475843,\n",
       "         0.63054608,  0.52860803],\n",
       "       ..., \n",
       "       [ 0.69041561,  0.73613445,  0.74475843, ...,  1.        ,\n",
       "         0.72757754,  0.58367347],\n",
       "       [ 0.67932489,  0.70214521,  0.63054608, ...,  0.72757754,\n",
       "         1.        ,  0.60880399],\n",
       "       [ 0.62098873,  0.59967051,  0.52860803, ...,  0.58367347,\n",
       "         0.60880399,  1.        ]])"
      ]
     },
     "execution_count": 18,
     "metadata": {},
     "output_type": "execute_result"
    }
   ],
   "source": [
    "rec_col_ii_jac.similarity_matrix"
   ]
  },
  {
   "cell_type": "code",
   "execution_count": 19,
   "metadata": {
    "collapsed": false
   },
   "outputs": [
    {
     "data": {
      "text/plain": [
       "array([[  764.61571706,   854.4339317 ,   946.18330869, ...,\n",
       "          875.73071106,   850.26708324,   683.78821663],\n",
       "       [  383.66192168,   346.37276489,   841.64839765, ...,\n",
       "          481.83164734,   520.65709583,   409.40277143],\n",
       "       [  966.44526334,   793.7586809 ,   714.33998821, ...,\n",
       "          817.00106825,   831.52016533,  1048.52246299],\n",
       "       ..., \n",
       "       [ 1039.77460347,  1157.59635032,  1597.43042507, ...,\n",
       "         1206.99538071,  1368.72361822,   929.15123322],\n",
       "       [  555.30344614,   520.4035299 ,   811.44490018, ...,\n",
       "          545.82810651,   189.9263015 ,   796.95356761],\n",
       "       [ 1631.81771235,  1734.8901675 ,  1837.42680647, ...,\n",
       "         1752.71973501,  1844.38670886,  1741.86680925]])"
      ]
     },
     "execution_count": 19,
     "metadata": {},
     "output_type": "execute_result"
    }
   ],
   "source": [
    "rec_knn = collaborative_filtering.collaborative_filtering(utility_matrix, algo = \"knn\")\n",
    "rec_knn.similarity_mat()\n",
    "rec_knn.final_recommendation_score_matrix()"
   ]
  },
  {
   "cell_type": "code",
   "execution_count": 20,
   "metadata": {
    "collapsed": false
   },
   "outputs": [
    {
     "data": {
      "text/plain": [
       "array([[  0.        ,  24.78911051,  36.1282438 , ...,  30.79772719,\n",
       "         31.60300619,  29.89983278],\n",
       "       [ 24.78911051,   0.        ,  33.55219814, ...,  24.84954728,\n",
       "         27.33587387,  29.79093822],\n",
       "       [ 36.1282438 ,  33.55219814,   0.        , ...,  28.42094298,\n",
       "         38.53569774,  40.72775466],\n",
       "       ..., \n",
       "       [ 30.79772719,  24.84954728,  28.42094298, ...,   0.        ,\n",
       "         30.90711892,  36.44173432],\n",
       "       [ 31.60300619,  27.33587387,  38.53569774, ...,  30.90711892,\n",
       "          0.        ,  34.63740752],\n",
       "       [ 29.89983278,  29.79093822,  40.72775466, ...,  36.44173432,\n",
       "         34.63740752,   0.        ]])"
      ]
     },
     "execution_count": 20,
     "metadata": {},
     "output_type": "execute_result"
    }
   ],
   "source": [
    "rec_knn.similarity_matrix"
   ]
  },
  {
   "cell_type": "code",
   "execution_count": 21,
   "metadata": {
    "collapsed": false
   },
   "outputs": [
    {
     "data": {
      "text/html": [
       "<div>\n",
       "<table border=\"1\" class=\"dataframe\">\n",
       "  <thead>\n",
       "    <tr style=\"text-align: right;\">\n",
       "      <th></th>\n",
       "      <th>0</th>\n",
       "      <th>1</th>\n",
       "      <th>2</th>\n",
       "      <th>3</th>\n",
       "      <th>4</th>\n",
       "      <th>5</th>\n",
       "      <th>6</th>\n",
       "      <th>7</th>\n",
       "      <th>8</th>\n",
       "      <th>9</th>\n",
       "      <th>...</th>\n",
       "      <th>60</th>\n",
       "      <th>61</th>\n",
       "      <th>62</th>\n",
       "      <th>63</th>\n",
       "      <th>64</th>\n",
       "      <th>65</th>\n",
       "      <th>66</th>\n",
       "      <th>67</th>\n",
       "      <th>68</th>\n",
       "      <th>69</th>\n",
       "    </tr>\n",
       "  </thead>\n",
       "  <tbody>\n",
       "    <tr>\n",
       "      <th>0</th>\n",
       "      <td>1.000000</td>\n",
       "      <td>0.922749</td>\n",
       "      <td>0.825934</td>\n",
       "      <td>0.849301</td>\n",
       "      <td>0.905678</td>\n",
       "      <td>0.894862</td>\n",
       "      <td>0.851388</td>\n",
       "      <td>0.805787</td>\n",
       "      <td>0.900097</td>\n",
       "      <td>0.867151</td>\n",
       "      <td>...</td>\n",
       "      <td>0.830264</td>\n",
       "      <td>0.916703</td>\n",
       "      <td>0.837809</td>\n",
       "      <td>0.855383</td>\n",
       "      <td>0.843675</td>\n",
       "      <td>0.880978</td>\n",
       "      <td>0.788307</td>\n",
       "      <td>0.884646</td>\n",
       "      <td>0.881187</td>\n",
       "      <td>0.880071</td>\n",
       "    </tr>\n",
       "    <tr>\n",
       "      <th>1</th>\n",
       "      <td>0.922749</td>\n",
       "      <td>1.000000</td>\n",
       "      <td>0.855639</td>\n",
       "      <td>0.853145</td>\n",
       "      <td>0.926908</td>\n",
       "      <td>0.925470</td>\n",
       "      <td>0.884737</td>\n",
       "      <td>0.845741</td>\n",
       "      <td>0.916541</td>\n",
       "      <td>0.885192</td>\n",
       "      <td>...</td>\n",
       "      <td>0.874303</td>\n",
       "      <td>0.938055</td>\n",
       "      <td>0.862350</td>\n",
       "      <td>0.908380</td>\n",
       "      <td>0.883119</td>\n",
       "      <td>0.889722</td>\n",
       "      <td>0.836458</td>\n",
       "      <td>0.926492</td>\n",
       "      <td>0.912770</td>\n",
       "      <td>0.886015</td>\n",
       "    </tr>\n",
       "    <tr>\n",
       "      <th>2</th>\n",
       "      <td>0.825934</td>\n",
       "      <td>0.855639</td>\n",
       "      <td>1.000000</td>\n",
       "      <td>0.742647</td>\n",
       "      <td>0.820316</td>\n",
       "      <td>0.810945</td>\n",
       "      <td>0.869941</td>\n",
       "      <td>0.862420</td>\n",
       "      <td>0.858410</td>\n",
       "      <td>0.782643</td>\n",
       "      <td>...</td>\n",
       "      <td>0.801935</td>\n",
       "      <td>0.860812</td>\n",
       "      <td>0.830305</td>\n",
       "      <td>0.825399</td>\n",
       "      <td>0.781827</td>\n",
       "      <td>0.789088</td>\n",
       "      <td>0.829841</td>\n",
       "      <td>0.901212</td>\n",
       "      <td>0.819715</td>\n",
       "      <td>0.771055</td>\n",
       "    </tr>\n",
       "    <tr>\n",
       "      <th>3</th>\n",
       "      <td>0.849301</td>\n",
       "      <td>0.853145</td>\n",
       "      <td>0.742647</td>\n",
       "      <td>1.000000</td>\n",
       "      <td>0.846363</td>\n",
       "      <td>0.857015</td>\n",
       "      <td>0.790998</td>\n",
       "      <td>0.746588</td>\n",
       "      <td>0.820601</td>\n",
       "      <td>0.827964</td>\n",
       "      <td>...</td>\n",
       "      <td>0.767482</td>\n",
       "      <td>0.831049</td>\n",
       "      <td>0.758495</td>\n",
       "      <td>0.823453</td>\n",
       "      <td>0.827750</td>\n",
       "      <td>0.821909</td>\n",
       "      <td>0.720159</td>\n",
       "      <td>0.816405</td>\n",
       "      <td>0.847466</td>\n",
       "      <td>0.836033</td>\n",
       "    </tr>\n",
       "    <tr>\n",
       "      <th>4</th>\n",
       "      <td>0.905678</td>\n",
       "      <td>0.926908</td>\n",
       "      <td>0.820316</td>\n",
       "      <td>0.846363</td>\n",
       "      <td>1.000000</td>\n",
       "      <td>0.903866</td>\n",
       "      <td>0.864828</td>\n",
       "      <td>0.809523</td>\n",
       "      <td>0.906262</td>\n",
       "      <td>0.876898</td>\n",
       "      <td>...</td>\n",
       "      <td>0.846017</td>\n",
       "      <td>0.900820</td>\n",
       "      <td>0.820203</td>\n",
       "      <td>0.886753</td>\n",
       "      <td>0.874747</td>\n",
       "      <td>0.884994</td>\n",
       "      <td>0.786476</td>\n",
       "      <td>0.887249</td>\n",
       "      <td>0.870612</td>\n",
       "      <td>0.870816</td>\n",
       "    </tr>\n",
       "  </tbody>\n",
       "</table>\n",
       "<p>5 rows × 70 columns</p>\n",
       "</div>"
      ],
      "text/plain": [
       "         0         1         2         3         4         5         6   \\\n",
       "0  1.000000  0.922749  0.825934  0.849301  0.905678  0.894862  0.851388   \n",
       "1  0.922749  1.000000  0.855639  0.853145  0.926908  0.925470  0.884737   \n",
       "2  0.825934  0.855639  1.000000  0.742647  0.820316  0.810945  0.869941   \n",
       "3  0.849301  0.853145  0.742647  1.000000  0.846363  0.857015  0.790998   \n",
       "4  0.905678  0.926908  0.820316  0.846363  1.000000  0.903866  0.864828   \n",
       "\n",
       "         7         8         9     ...           60        61        62  \\\n",
       "0  0.805787  0.900097  0.867151    ...     0.830264  0.916703  0.837809   \n",
       "1  0.845741  0.916541  0.885192    ...     0.874303  0.938055  0.862350   \n",
       "2  0.862420  0.858410  0.782643    ...     0.801935  0.860812  0.830305   \n",
       "3  0.746588  0.820601  0.827964    ...     0.767482  0.831049  0.758495   \n",
       "4  0.809523  0.906262  0.876898    ...     0.846017  0.900820  0.820203   \n",
       "\n",
       "         63        64        65        66        67        68        69  \n",
       "0  0.855383  0.843675  0.880978  0.788307  0.884646  0.881187  0.880071  \n",
       "1  0.908380  0.883119  0.889722  0.836458  0.926492  0.912770  0.886015  \n",
       "2  0.825399  0.781827  0.789088  0.829841  0.901212  0.819715  0.771055  \n",
       "3  0.823453  0.827750  0.821909  0.720159  0.816405  0.847466  0.836033  \n",
       "4  0.886753  0.874747  0.884994  0.786476  0.887249  0.870612  0.870816  \n",
       "\n",
       "[5 rows x 70 columns]"
      ]
     },
     "execution_count": 21,
     "metadata": {},
     "output_type": "execute_result"
    }
   ],
   "source": [
    "df_cos_sim = pd.DataFrame(rec_col_ii_cos.similarity_matrix)\n",
    "df_knn_sim = pd.DataFrame(rec_knn.similarity_matrix)\n",
    "df_jac_sim = pd.DataFrame(rec_col_ii_jac.similarity_matrix)\n",
    "df_cos_sim.head()"
   ]
  },
  {
   "cell_type": "code",
   "execution_count": null,
   "metadata": {
    "collapsed": false
   },
   "outputs": [],
   "source": [
    "import cPickle as pickle"
   ]
  },
  {
   "cell_type": "code",
   "execution_count": null,
   "metadata": {
    "collapsed": false
   },
   "outputs": [],
   "source": [
    "with open(r\"C:\\Users\\SHIVAM MAHAJAN\\Desktop\\Github\\Recommendation-System\\Data\\beer_reviews\\cossine_arm.pickle\", \"wb\") as handle:\n",
    "    pickle.dump(df_cos_sim, handle, protocol = pickle.HIGHEST_PROTOCOL)\n",
    "with open(r\"C:\\Users\\SHIVAM MAHAJAN\\Desktop\\Github\\Recommendation-System\\Data\\beer_reviews\\cossine_arm.pickle\", \"rb\") as handle:\n",
    "    check_df = pickle.load(handle)"
   ]
  },
  {
   "cell_type": "code",
   "execution_count": null,
   "metadata": {
    "collapsed": false
   },
   "outputs": [],
   "source": [
    "with open(r\"C:\\Users\\SHIVAM MAHAJAN\\Desktop\\Github\\Recommendation-System\\Data\\beer_reviews\\jac_arm.pickle\", \"wb\") as handle:\n",
    "    pickle.dump(df_jac_sim, handle, protocol = pickle.HIGHEST_PROTOCOL)\n",
    "with open(r\"C:\\Users\\SHIVAM MAHAJAN\\Desktop\\Github\\Recommendation-System\\Data\\beer_reviews\\knn_arm.pickle\", \"wb\") as handle:\n",
    "    pickle.dump(df_knn_sim, handle, protocol = pickle.HIGHEST_PROTOCOL)"
   ]
  },
  {
   "cell_type": "code",
   "execution_count": 80,
   "metadata": {
    "collapsed": false
   },
   "outputs": [],
   "source": [
    "with open(r\"C:\\Users\\SHIVAM MAHAJAN\\Desktop\\Github\\Recommendation-System\\Data\\beer_profile_hash.pickle\", \"wb\") as handle:\n",
    "    pickle.dump(hash_beers, handle)\n",
    "    pickle.dump(hash_profiles, handle)\n",
    "    pickle.dump(hash_beers_inv, handle)\n",
    "    pickle.dump(hash_profiles_inv, handle)"
   ]
  }
 ],
 "metadata": {
  "kernelspec": {
   "display_name": "Python 2",
   "language": "python",
   "name": "python2"
  },
  "language_info": {
   "codemirror_mode": {
    "name": "ipython",
    "version": 2
   },
   "file_extension": ".py",
   "mimetype": "text/x-python",
   "name": "python",
   "nbconvert_exporter": "python",
   "pygments_lexer": "ipython2",
   "version": "2.7.11"
  }
 },
 "nbformat": 4,
 "nbformat_minor": 0
}
