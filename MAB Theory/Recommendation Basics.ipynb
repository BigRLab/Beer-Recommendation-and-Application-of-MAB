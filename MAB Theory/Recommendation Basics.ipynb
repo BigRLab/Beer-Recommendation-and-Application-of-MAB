{
 "cells": [
  {
   "cell_type": "markdown",
   "metadata": {},
   "source": [
    "<img src = \"image0.jpg\"/>"
   ]
  },
  {
   "cell_type": "markdown",
   "metadata": {},
   "source": [
    "### Approaches to recommendations\n",
    "\n",
    "\n",
    "1. Collabrative Filtering -\n",
    "    * User based\n",
    "    * Item based\n",
    "\n",
    "2. Content Based - Recommended on the basis of item features\n",
    "\n",
    "3. Personalized Learning to Rank - Treat recommendation as ranking problem\n",
    "\n",
    "4. Demographics - Recommend based on user features\n",
    "\n",
    "5. Social Recommendations - Trust based\n",
    "\n",
    "6. Hybrid - Combine any of the above"
   ]
  },
  {
   "cell_type": "markdown",
   "metadata": {},
   "source": [
    "### The core of recommendation can be assimilated as data minning problem.\n",
    "\n",
    "<img src = \"image002 (1).jpg\" style = \"height : 250px\"/>"
   ]
  },
  {
   "cell_type": "markdown",
   "metadata": {},
   "source": [
    "### Features of good rec system.\n",
    "\n",
    "* **Serendipity**\n",
    "\n",
    "\n",
    "1. Don't recommend items which user already knows about or would have found anyway.\n",
    "2. Expand user's taste into neighboring areas.\n",
    "3. Collaborative Filtering can offer controlled Serendipity. ( Eg. Controlling how many neighbors to use in recommendation."
   ]
  },
  {
   "cell_type": "markdown",
   "metadata": {},
   "source": [
    "### What Works\n",
    "\n",
    "1. Depends on the domain of a particular problem.\n",
    "2. In general case, it has been demonstarted that best isolation approach is C.F.\n",
    "3. Other methods can be hybridized to improve results in specific problems - like cold start\n",
    "\n",
    "\n",
    "### What matters\n",
    "\n",
    "1. Data Processing - Outliers removal, denoising removal of global effects\n",
    "2. \"Smart\" dimensionality reduction.\n",
    "3. Combining methods."
   ]
  },
  {
   "cell_type": "code",
   "execution_count": null,
   "metadata": {
    "collapsed": true
   },
   "outputs": [],
   "source": []
  }
 ],
 "metadata": {
  "anaconda-cloud": {},
  "kernelspec": {
   "display_name": "Python 2",
   "language": "python",
   "name": "python2"
  },
  "language_info": {
   "codemirror_mode": {
    "name": "ipython",
    "version": 2
   },
   "file_extension": ".py",
   "mimetype": "text/x-python",
   "name": "python",
   "nbconvert_exporter": "python",
   "pygments_lexer": "ipython2",
   "version": "2.7.11"
  }
 },
 "nbformat": 4,
 "nbformat_minor": 0
}
